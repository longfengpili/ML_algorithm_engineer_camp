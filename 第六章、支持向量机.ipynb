{
 "cells": [
  {
   "cell_type": "markdown",
   "metadata": {},
   "source": [
    "# 支持向量机简介"
   ]
  },
  {
   "cell_type": "markdown",
   "metadata": {},
   "source": [
    "1. 支持向量：就是支持或支撑平面上把两类类别划分开来的超平面的向量点\n",
    "2. 机：可以理解为一种算法\n",
    "3. SVM是一种二分类模型\n",
    "4. 线性可分支持向量机： 通过硬间隔最大化，学习一个线性分类器（图1）\n",
    "5. 线性支持向量机：通过软间隔最大化，学习一个线性分类器（图2）\n",
    "6. 非线性支持向量机： 通过核技巧，学习一个非线性的分类器（图3）\n",
    "![](./img/6_1.png)"
   ]
  },
  {
   "cell_type": "markdown",
   "metadata": {},
   "source": [
    "# 概念\n",
    "## 几何间隔\n",
    "$$\n",
    "\\begin{array}{l}\n",
    "\\gamma^{(i)}=y^{(i)} \\frac{w \\cdot x^{(i)}+b}{\\|w\\|} \\\\\n",
    "\\gamma=\\min _{i=1, \\ldots} r^{(i)}\n",
    "\\end{array}\n",
    "$$\n",
    "## 函数间隔\n",
    "$$\n",
    "\\begin{array}{l}\n",
    "\\hat{\\gamma}^{(i)}=y^{(i)}\\left(w \\cdot x^{(i)}+b\\right) \\\\\n",
    "\\hat{\\gamma}=\\min _{i=1 \\ldots m} \\hat{r}^{(i)}\n",
    "\\end{array}\n",
    "$$\n",
    "## 目标函数$$\n",
    "\\begin{array}{l}\n",
    "\\gamma^{(i)}=\\frac{\\hat{\\gamma}^{(i)}}{\\|\\hat{\\gamma}\\|} \\\\\n",
    "\\gamma=\\frac{\\hat{\\gamma}}{\\|w\\|}\n",
    "\\end{array}\n",
    "$$\n",
    "\n",
    "![](./img/6_2.png)"
   ]
  },
  {
   "cell_type": "markdown",
   "metadata": {},
   "source": [
    "## 最大间隔分类超平面\n",
    "可表示为如下优化问题\n",
    "$$\n",
    "\\begin{aligned}\n",
    "&\\max _{\\text {w, } b} \\gamma\\\\\n",
    "&\\text { st. } y^{(i)} \\frac{w \\cdot x^{(i)}+b}{\\|w\\|} \\geq \\gamma, \\mathrm{i}=1,2, \\ldots, \\mathrm{m}\n",
    "\\end{aligned}\n",
    "$$\n",
    "考虑几何距离和函数距离， 上式等价于\n",
    "$$\n",
    "\\begin{aligned}\n",
    "&\\max _{w, b} \\frac{\\hat{\\gamma}}{\\|\\mathrm{w}\\|}\\\\\n",
    "&\\text { s.t. } y^{(i)}\\left(w \\cdot x^{(i)}+b\\right) \\geq \\hat{\\gamma}, \\quad \\mathrm{i}=1,2, \\ldots, \\mathrm{m}\n",
    "\\end{aligned}\n",
    "$$\n",
    "取${\\hat{\\gamma}}=1$转换为如下问题\n",
    "$$\n",
    "\\begin{array}{l}\n",
    "\\min _{w, b} \\frac{1}{2}\\|\\mathrm{w}\\|^{2} \\\\\n",
    "\\text { s.t. } 1-y^{(i)}\\left(w \\cdot x^{(i)}+b\\right) \\leq 0, \\mathrm{i}=1,2, \\ldots, \\mathrm{m}\n",
    "\\end{array}\n",
    "$$\n"
   ]
  },
  {
   "cell_type": "markdown",
   "metadata": {},
   "source": [
    "# 拉格朗日乘子法\n",
    "## 等式约束\n",
    "![](./img/6_3.png)\n",
    "![](./img/6_4.png)"
   ]
  },
  {
   "cell_type": "markdown",
   "metadata": {},
   "source": [
    "## 不等式约束\n",
    "> 不等式约束需要是小于等于0的，如果不是需要转化\n",
    "\n",
    "![](./img/6_5.png)\n",
    "![](./img/6_6.png)\n",
    "![](./img/6_7.png)"
   ]
  },
  {
   "cell_type": "markdown",
   "metadata": {},
   "source": [
    "# SVM目标函数的优化"
   ]
  },
  {
   "cell_type": "markdown",
   "metadata": {},
   "source": [
    "1. 目标函数\n",
    "$$\n",
    "\\begin{aligned}\n",
    "&\\min _{w, b} \\frac{1}{2}\\|w\\|^{2}\\\\\n",
    "&\\text { s.t. } 1-y^{(i)}\\left(w \\cdot x^{(i)}+b\\right) \\leq 0, \\quad \\mathrm{i}=1,2, \\ldots, \\mathrm{m}\n",
    "\\end{aligned}\n",
    "$$\n",
    "2. 构造拉格朗日函数\n",
    "$$\n",
    "L(w, b, \\alpha)=\\frac{1}{2}\\|w\\|^{2}-\\sum_{i=1}^{m} \\alpha^{(i)} y^{(i)}\\left(w \\cdot x^{(i)}+b\\right)+\\sum_{i=1}^{m} \\alpha^{(i)}\n",
    "$$\n",
    "3. 根据拉格朗日对偶性，原始问题的对偶问题是极大极小问题\n",
    "    + 原问题\n",
    "    $$\n",
    "\\min _{w, b} \\max _{\\alpha} L(w, b, \\alpha)\n",
    "$$\n",
    "    + 对偶问题\n",
    "    $$\n",
    "\\max _{\\alpha} \\min _{w, b} L(w, b, \\alpha)\n",
    "$$"
   ]
  },
  {
   "cell_type": "markdown",
   "metadata": {},
   "source": [
    "# SVM目标函数求解\n",
    "1. 求$\\min _{w, b} L(w, b, \\alpha)$\n",
    "$$\\begin{aligned}\n",
    "&\\nabla_{w} L(w, b, \\alpha)=w-\\sum_{i=1}^{m} \\alpha^{(i)} y^{(i)} x^{(i)}=0 \\quad \\text { 可得 } \\quad w=\\sum_{i=1}^{m} \\alpha^{(i)} y^{(i)} x^{(i)}\\\\\n",
    "&\\nabla_{b} L(w, b, \\alpha)=\\sum_{i=1}^{m} \\alpha^{(i)} y^{(i)}=0 \\quad \\text { 可得 } \\sum_{i=1}^{m} \\alpha^{(i)} y^{(i)}=0\\\\\n",
    "&\\min _{w, b} L(w, b, \\alpha)=\\frac{1}{2} \\sum_{i=1}^{m} \\sum_{j=1}^{m} \\alpha^{(i)} \\alpha^{(j)} y^{(i)} y^{(j)}\\left(x^{(i)} \\cdot x^{(j)}\\right)-\\sum_{i=1}^{m} \\alpha^{(i)} y^{(i)}\\left(\\left(\\sum_{j=1}^{m} \\alpha^{(j)} y^{(j)} x^{(j)}\\right) \\cdot x^{(i)}+b\\right)+\\sum_{i=1}^{m} \\alpha^{(i)}\\\\\n",
    "&=-\\frac{1}{2} \\sum_{i=1}^{m} \\sum_{j=1}^{m} \\alpha^{(i)} \\alpha^{(j)} y^{(i)} y^{(j)}\\left(x^{(i)} \\cdot x^{(j)}\\right)+\\sum_{i=1}^{m} \\alpha^{(i)}\n",
    "\\end{aligned}$$"
   ]
  },
  {
   "cell_type": "markdown",
   "metadata": {},
   "source": [
    "2. 求$\\min _{w, b} L(w, b, \\alpha)$对$\\alpha$极大\n",
    "$$\n",
    "\\begin{array}{l}\n",
    "\\max _{\\alpha}-\\frac{1}{2} \\sum_{i=1}^{m} \\sum_{j=1}^{m} \\alpha^{(i)} \\alpha^{(j)} y^{(i)} y^{(j)}\\left(x^{(i)} \\cdot x^{(j)}\\right)+\\sum_{i=1}^{m} \\alpha^{(i)} \\\\\n",
    "\\text { st. } \\sum_{i=1}^{n} \\alpha^{(i)} y^{(i)}=0 \\quad \\alpha^{(i)} \\geq 0, \\mathrm{i}=1,2, \\ldots, \\mathrm{m}\n",
    "\\end{array}\n",
    "$$\n",
    "等价于\n",
    "$$\n",
    "\\rightarrow\\left\\{\\begin{array}{l}\n",
    "\\min _{a} \\frac{1}{2} \\sum_{i=1}^{m} \\sum_{j=1}^{m} \\alpha^{(i)} \\alpha^{(j)} y^{(i)} y^{j}\\left(x^{(i)} \\cdot x^{(j)}\\right)-\\sum_{i=1}^{m} \\alpha^{(i)} \\\\\n",
    "s . t . \\sum_{i=1}^{m} \\alpha^{(i)} y^{(i)}=0 \\quad \\alpha^{(i)} \\geq 0, i=1,2, \\ldots, \\mathrm{m}\n",
    "\\end{array}\\right.\n",
    "$$\n",
    "$$\n",
    "\\begin{array}{l}\n",
    "w^{*}=\\sum_{i=1}^{m} \\alpha^{(i)^{*}} y^{(i)} x^{(i)} \\\\\n",
    "y^{(j)}\\left(w^{*} \\cdot x^{(j)}+b^{*}\\right)-1=0 \\text { 得 } \\\\\n",
    "b^{*}=y^{(j)}-\\sum_{i=1}^{m} \\alpha^{(i)^{*}} y^{(i)}\\left(x^{(i)} \\cdot x^{(j)}\\right)\n",
    "\\end{array}\n",
    "$$\n",
    "此时分离超平面为：\n",
    "$$\n",
    "w^{*} \\cdot x+b^{*}=0\n",
    "$$\n",
    "分类决策函数为：\n",
    "$$\n",
    "\\begin{array}{l}\n",
    "f(x)=\\operatorname{sig} n\\left(w^{*} \\cdot x+b^{*}\\right) \\\\\n",
    "\\text { 其中 } \\operatorname{sign}(z)=\\left\\{\\begin{array}{l}\n",
    "1, z \\geq 0 \\\\\n",
    "-1, z<0\n",
    "\\end{array}\\right.\n",
    "\\end{array}\n",
    "$$"
   ]
  },
  {
   "cell_type": "markdown",
   "metadata": {},
   "source": [
    "![](./img/6_8.png)"
   ]
  },
  {
   "cell_type": "markdown",
   "metadata": {},
   "source": [
    "# SVM求解举例\n",
    "![](./img/6_9.png)\n",
    "![](./img/6_10.png)"
   ]
  },
  {
   "cell_type": "code",
   "execution_count": 1,
   "metadata": {
    "ExecuteTime": {
     "end_time": "2020-11-23T23:43:47.913180Z",
     "start_time": "2020-11-23T23:43:47.909182Z"
    }
   },
   "outputs": [],
   "source": [
    "from sklearn.svm import LinearSVC"
   ]
  },
  {
   "cell_type": "code",
   "execution_count": 16,
   "metadata": {
    "ExecuteTime": {
     "end_time": "2020-11-24T00:02:20.362992Z",
     "start_time": "2020-11-24T00:02:20.349997Z"
    }
   },
   "outputs": [
    {
     "data": {
      "text/plain": [
       "array([[3, 3],\n",
       "       [4, 3],\n",
       "       [1, 1]])"
      ]
     },
     "execution_count": 16,
     "metadata": {},
     "output_type": "execute_result"
    },
    {
     "data": {
      "text/plain": [
       "array([ 1,  1, -1])"
      ]
     },
     "execution_count": 16,
     "metadata": {},
     "output_type": "execute_result"
    }
   ],
   "source": [
    "X = np.array([[3, 3],\n",
    "        [4, 3],\n",
    "        [1, 1]])\n",
    "y = np.array([1, 1, -1])\n",
    "X\n",
    "y"
   ]
  },
  {
   "cell_type": "code",
   "execution_count": 5,
   "metadata": {
    "ExecuteTime": {
     "end_time": "2020-11-23T23:50:07.385572Z",
     "start_time": "2020-11-23T23:50:07.372614Z"
    }
   },
   "outputs": [
    {
     "data": {
      "text/plain": [
       "LinearSVC()"
      ]
     },
     "execution_count": 5,
     "metadata": {},
     "output_type": "execute_result"
    }
   ],
   "source": [
    "lsvc = LinearSVC()\n",
    "lsvc.fit(X, y)"
   ]
  },
  {
   "cell_type": "code",
   "execution_count": 6,
   "metadata": {
    "ExecuteTime": {
     "end_time": "2020-11-23T23:51:32.634904Z",
     "start_time": "2020-11-23T23:51:32.621912Z"
    }
   },
   "outputs": [
    {
     "data": {
      "text/plain": [
       "array([[0.26463063, 0.25678255]])"
      ]
     },
     "execution_count": 6,
     "metadata": {},
     "output_type": "execute_result"
    },
    {
     "data": {
      "text/plain": [
       "array([-0.83268149])"
      ]
     },
     "execution_count": 6,
     "metadata": {},
     "output_type": "execute_result"
    },
    {
     "data": {
      "text/plain": [
       "array([-1,  1])"
      ]
     },
     "execution_count": 6,
     "metadata": {},
     "output_type": "execute_result"
    }
   ],
   "source": [
    "lsvc.coef_\n",
    "lsvc.intercept_\n",
    "lsvc.classes_"
   ]
  },
  {
   "cell_type": "code",
   "execution_count": 20,
   "metadata": {
    "ExecuteTime": {
     "end_time": "2020-11-24T00:03:07.872061Z",
     "start_time": "2020-11-24T00:03:07.669057Z"
    }
   },
   "outputs": [
    {
     "data": {
      "text/plain": [
       "<matplotlib.collections.PathCollection at 0x27f89db3b48>"
      ]
     },
     "execution_count": 20,
     "metadata": {},
     "output_type": "execute_result"
    },
    {
     "data": {
      "text/plain": [
       "[<matplotlib.lines.Line2D at 0x27f89d6dac8>]"
      ]
     },
     "execution_count": 20,
     "metadata": {},
     "output_type": "execute_result"
    },
    {
     "data": {
      "text/plain": [
       "[<matplotlib.lines.Line2D at 0x27f89d23ac8>]"
      ]
     },
     "execution_count": 20,
     "metadata": {},
     "output_type": "execute_result"
    },
    {
     "data": {
      "text/plain": [
       "[<matplotlib.lines.Line2D at 0x27f89b78e08>]"
      ]
     },
     "execution_count": 20,
     "metadata": {},
     "output_type": "execute_result"
    },
    {
     "data": {
      "image/png": "[encoded data removed]",
      "text/plain": [
       "<Figure size 432x288 with 1 Axes>"
      ]
     },
     "metadata": {
      "needs_background": "light"
     },
     "output_type": "display_data"
    }
   ],
   "source": [
    "def y_t(x):\n",
    "    return 0.2646 * x - 0.8327\n",
    "plt.scatter(X[:, 0], y)\n",
    "x = np.array([0, 4])\n",
    "plt.plot(x, y_t(x))\n",
    "plt.plot(x, y_t(x)+1)\n",
    "plt.plot(x, y_t(x)-1)"
   ]
  },
  {
   "cell_type": "code",
   "execution_count": null,
   "metadata": {},
   "outputs": [],
   "source": []
  }
 ],
 "metadata": {
  "hide_input": false,
  "kernelspec": {
   "display_name": "Python 3",
   "language": "python",
   "name": "python3"
  },
  "language_info": {
   "codemirror_mode": {
    "name": "ipython",
    "version": 3
   },
   "file_extension": ".py",
   "mimetype": "text/x-python",
   "name": "python",
   "nbconvert_exporter": "python",
   "pygments_lexer": "ipython3",
   "version": "3.7.6"
  },
  "nbTranslate": {
   "displayLangs": [
    "*"
   ],
   "hotkey": "alt-t",
   "langInMainMenu": true,
   "sourceLang": "en",
   "targetLang": "fr",
   "useGoogleTranslate": true
  },
  "toc": {
   "base_numbering": 1,
   "nav_menu": {},
   "number_sections": true,
   "sideBar": true,
   "skip_h1_title": false,
   "title_cell": "Table of Contents",
   "title_sidebar": "Contents",
   "toc_cell": false,
   "toc_position": {
    "height": "calc(100% - 180px)",
    "left": "10px",
    "top": "150px",
    "width": "384px"
   },
   "toc_section_display": true,
   "toc_window_display": true
  },
  "varInspector": {
   "cols": {
    "lenName": 16,
    "lenType": 16,
    "lenVar": 40
   },
   "kernels_config": {
    "python": {
     "delete_cmd_postfix": "",
     "delete_cmd_prefix": "del ",
     "library": "var_list.py",
     "varRefreshCmd": "print(var_dic_list())"
    },
    "r": {
     "delete_cmd_postfix": ") ",
     "delete_cmd_prefix": "rm(",
     "library": "var_list.r",
     "varRefreshCmd": "cat(var_dic_list()) "
    }
   },
   "types_to_exclude": [
    "module",
    "function",
    "builtin_function_or_method",
    "instance",
    "_Feature"
   ],
   "window_display": false
  }
 },
 "nbformat": 4,
 "nbformat_minor": 4
}
