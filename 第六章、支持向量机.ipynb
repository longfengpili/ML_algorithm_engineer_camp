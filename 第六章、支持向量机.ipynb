{
 "cells": [
  {
   "cell_type": "markdown",
   "metadata": {},
   "source": [
    "# 支持向量机简介"
   ]
  },
  {
   "cell_type": "markdown",
   "metadata": {},
   "source": [
    "1. 支持向量：就是支持或支撑平面上把两类类别划分开来的超平面的向量点\n",
    "2. 机：可以理解为一种算法\n",
    "3. SVM是一种二分类模型\n",
    "4. 线性可分支持向量机： 通过硬间隔最大化，学习一个线性分类器（图1）\n",
    "5. 线性支持向量机：通过软间隔最大化，学习一个线性分类器（图2）\n",
    "6. 非线性支持向量机： 通过核技巧，学习一个非线性的分类器（图3）\n",
    "![](./img/6_1.png)"
   ]
  },
  {
   "cell_type": "markdown",
   "metadata": {},
   "source": [
    "# 概念\n",
    "## 几何间隔\n",
    "$$\n",
    "\\begin{array}{l}\n",
    "\\gamma^{(i)}=y^{(i)} \\frac{w \\cdot x^{(i)}+b}{\\|w\\|} \\\\\n",
    "\\gamma=\\min _{i=1, \\ldots} r^{(i)}\n",
    "\\end{array}\n",
    "$$\n",
    "## 函数间隔\n",
    "$$\n",
    "\\begin{array}{l}\n",
    "\\hat{\\gamma}^{(i)}=y^{(i)}\\left(w \\cdot x^{(i)}+b\\right) \\\\\n",
    "\\hat{\\gamma}=\\min _{i=1 \\ldots m} \\hat{r}^{(i)}\n",
    "\\end{array}\n",
    "$$\n",
    "## 目标函数$$\n",
    "\\begin{array}{l}\n",
    "\\gamma^{(i)}=\\frac{\\hat{\\gamma}^{(i)}}{\\|\\hat{\\gamma}\\|} \\\\\n",
    "\\gamma=\\frac{\\hat{\\gamma}}{\\|w\\|}\n",
    "\\end{array}\n",
    "$$\n",
    "\n",
    "![](./img/6_2.png)"
   ]
  },
  {
   "cell_type": "markdown",
   "metadata": {},
   "source": [
    "## 最大间隔分类超平面\n",
    "可表示为如下优化问题\n",
    "$$\n",
    "\\begin{aligned}\n",
    "&\\max _{\\text {w, } b} \\gamma\\\\\n",
    "&\\text { st. } y^{(i)} \\frac{w \\cdot x^{(i)}+b}{\\|w\\|} \\geq \\gamma, \\mathrm{i}=1,2, \\ldots, \\mathrm{m}\n",
    "\\end{aligned}\n",
    "$$\n",
    "考虑几何距离和函数距离， 上式等价于\n",
    "$$\n",
    "\\begin{aligned}\n",
    "&\\max _{w, b} \\frac{\\hat{\\gamma}}{\\|\\mathrm{w}\\|}\\\\\n",
    "&\\text { s.t. } y^{(i)}\\left(w \\cdot x^{(i)}+b\\right) \\geq \\hat{\\gamma}, \\quad \\mathrm{i}=1,2, \\ldots, \\mathrm{m}\n",
    "\\end{aligned}\n",
    "$$\n",
    "取${\\hat{\\gamma}}=1$转换为如下问题\n",
    "$$\n",
    "\\begin{array}{l}\n",
    "\\min _{w, b} \\frac{1}{2}\\|\\mathrm{w}\\|^{2} \\\\\n",
    "\\text { s.t. } 1-y^{(i)}\\left(w \\cdot x^{(i)}+b\\right) \\leq 0, \\mathrm{i}=1,2, \\ldots, \\mathrm{m}\n",
    "\\end{array}\n",
    "$$\n"
   ]
  },
  {
   "cell_type": "markdown",
   "metadata": {},
   "source": [
    "# 拉格朗日乘子法\n",
    "![](./img/6_3.png)\n",
    "![](./img/6_4.png)"
   ]
  },
  {
   "cell_type": "code",
   "execution_count": null,
   "metadata": {},
   "outputs": [],
   "source": []
  }
 ],
 "metadata": {
  "hide_input": false,
  "kernelspec": {
   "display_name": "Python 3",
   "language": "python",
   "name": "python3"
  },
  "language_info": {
   "codemirror_mode": {
    "name": "ipython",
    "version": 3
   },
   "file_extension": ".py",
   "mimetype": "text/x-python",
   "name": "python",
   "nbconvert_exporter": "python",
   "pygments_lexer": "ipython3",
   "version": "3.7.6"
  },
  "nbTranslate": {
   "displayLangs": [
    "*"
   ],
   "hotkey": "alt-t",
   "langInMainMenu": true,
   "sourceLang": "en",
   "targetLang": "fr",
   "useGoogleTranslate": true
  },
  "toc": {
   "base_numbering": 1,
   "nav_menu": {},
   "number_sections": true,
   "sideBar": true,
   "skip_h1_title": false,
   "title_cell": "Table of Contents",
   "title_sidebar": "Contents",
   "toc_cell": false,
   "toc_position": {
    "height": "calc(100% - 180px)",
    "left": "10px",
    "top": "150px",
    "width": "384px"
   },
   "toc_section_display": true,
   "toc_window_display": true
  },
  "varInspector": {
   "cols": {
    "lenName": 16,
    "lenType": 16,
    "lenVar": 40
   },
   "kernels_config": {
    "python": {
     "delete_cmd_postfix": "",
     "delete_cmd_prefix": "del ",
     "library": "var_list.py",
     "varRefreshCmd": "print(var_dic_list())"
    },
    "r": {
     "delete_cmd_postfix": ") ",
     "delete_cmd_prefix": "rm(",
     "library": "var_list.r",
     "varRefreshCmd": "cat(var_dic_list()) "
    }
   },
   "types_to_exclude": [
    "module",
    "function",
    "builtin_function_or_method",
    "instance",
    "_Feature"
   ],
   "window_display": false
  }
 },
 "nbformat": 4,
 "nbformat_minor": 4
}
