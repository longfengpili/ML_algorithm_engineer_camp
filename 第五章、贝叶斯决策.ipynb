{
 "cells": [
  {
   "cell_type": "markdown",
   "metadata": {},
   "source": [
    "# 贝叶斯决策基本概念"
   ]
  },
  {
   "cell_type": "markdown",
   "metadata": {},
   "source": [
    "## 基本原理\n",
    "对每个样本x, 选择能使后验概率$P(c|x)$最大的类别标记"
   ]
  },
  {
   "cell_type": "markdown",
   "metadata": {},
   "source": [
    "## 条件概率\n",
    "![](./img/5_1.png)\n",
    "![](./img/5_2.png)"
   ]
  },
  {
   "cell_type": "markdown",
   "metadata": {},
   "source": [
    "# 朴素贝叶斯决策模型\n",
    "+ 朴素贝叶斯模型采用了“属性条件独立性假设”， 即所有属性间相互独立\n",
    "\n",
    "$$\n",
    "\\begin{array}{l}\n",
    "p\\left(\\mathrm{y}_{i} \\mid x\\right)=\\frac{p\\left(x \\mid \\mathrm{y}_{i}\\right) p\\left(\\mathrm{y}_{i}\\right)}{p(x)} \\quad \\text { 可转换为 }: \\\\\n",
    "p\\left(\\mathrm{y}_{i} \\mid x\\right)=p\\left(x_{1} \\mid \\mathrm{y}_{i}\\right) p\\left(x_{2} \\mid \\mathrm{y}_{i}\\right) \\ldots p\\left(x_{n} \\mid \\mathrm{y}_{i}\\right) p\\left(\\mathrm{y}_{i}\\right)\n",
    "\\end{array}\n",
    "$$"
   ]
  },
  {
   "cell_type": "markdown",
   "metadata": {},
   "source": [
    "![](./img/5_3.png)"
   ]
  },
  {
   "cell_type": "markdown",
   "metadata": {},
   "source": [
    "# 朴素贝叶斯代码实现"
   ]
  },
  {
   "cell_type": "code",
   "execution_count": 6,
   "metadata": {
    "ExecuteTime": {
     "end_time": "2020-11-04T09:55:53.420429Z",
     "start_time": "2020-11-04T09:55:53.415423Z"
    }
   },
   "outputs": [],
   "source": [
    "import numpy as np\n",
    "\n",
    "def loaddata():\n",
    "    X = np.array([[1,'S'], [1,'M'], [1,'M'], [1,'S'],\n",
    "         [1, 'S'], [2, 'S'], [2, 'M'], [2, 'M'],\n",
    "         [2, 'L'], [2, 'L'], [3, 'L'], [3, 'M'],\n",
    "         [3, 'M'], [3, 'L'], [3, 'L']])\n",
    "    y = np.array([-1, -1, 1, 1, -1, -1, -1, 1, 1, 1, 1, 1, 1, 1, -1])\n",
    "    return X, y"
   ]
  },
  {
   "cell_type": "code",
   "execution_count": 76,
   "metadata": {
    "ExecuteTime": {
     "end_time": "2020-11-04T10:54:56.970418Z",
     "start_time": "2020-11-04T10:54:56.961419Z"
    }
   },
   "outputs": [],
   "source": [
    "from collections import Counter\n",
    "def get_singlefeature_probability(x, y, y_class=1):\n",
    "    probability = {}\n",
    "    x = np.compress(y == y_class, x, axis=0)\n",
    "    xcount = Counter(x)\n",
    "    ycount = sum(y == y_class)\n",
    "    for k, v in xcount.items():\n",
    "        key = f\"{k}_{y_class}\"\n",
    "        probability[key] = v / ycount\n",
    "    return probability\n",
    "\n",
    "def get_xprobability(X, y):\n",
    "    xprobability = {}\n",
    "    m, n = X.shape\n",
    "    for i in range(n):\n",
    "        for j in set(y):\n",
    "            p = get_singlefeature_probability(X[:, i], y, y_class=j)\n",
    "            p = {f\"{i}_{k}\": v for k, v in p.items()}\n",
    "            xprobability.update(p)\n",
    "    return xprobability\n",
    "\n",
    "def get_yprobability(y):\n",
    "    yprobability = {}\n",
    "    ysize = y.size\n",
    "    ycount = Counter(y)\n",
    "    for k, v in ycount.items():\n",
    "        yprobability[f\"{k}\"] = v / ysize\n",
    "        \n",
    "    return yprobability\n",
    "    \n",
    "\n",
    "def predict(X):\n",
    "    probability = {}\n",
    "    n = X.size\n",
    "    keys1 = [f\"{i}_{X[i]}_{1}\" for i in range(n)]\n",
    "    xprob1 = [xprobability.get(key) for key in keys1]\n",
    "    yprob1 = yprobability['1']\n",
    "    y1 = xprob1[0] * xprob1[1] * yprob1\n",
    "    \n",
    "    keys2 = [f\"{i}_{X[i]}_{-1}\" for i in range(n)]\n",
    "    xprob2 = [xprobability.get(key) for key in keys2]\n",
    "    yprob2 = yprobability['-1']\n",
    "    y2 = xprob2[0] * xprob2[1] * yprob2\n",
    "    \n",
    "    y = 1 if y1 >= y2 else -1\n",
    "    return y"
   ]
  },
  {
   "cell_type": "code",
   "execution_count": 77,
   "metadata": {
    "ExecuteTime": {
     "end_time": "2020-11-04T10:54:57.570747Z",
     "start_time": "2020-11-04T10:54:57.560742Z"
    }
   },
   "outputs": [
    {
     "data": {
      "text/plain": [
       "(array([['1', 'S'],\n",
       "        ['1', 'M'],\n",
       "        ['1', 'M'],\n",
       "        ['1', 'S'],\n",
       "        ['1', 'S'],\n",
       "        ['2', 'S'],\n",
       "        ['2', 'M'],\n",
       "        ['2', 'M'],\n",
       "        ['2', 'L'],\n",
       "        ['2', 'L'],\n",
       "        ['3', 'L'],\n",
       "        ['3', 'M'],\n",
       "        ['3', 'M'],\n",
       "        ['3', 'L'],\n",
       "        ['3', 'L']], dtype='<U11'),\n",
       " array([-1, -1,  1,  1, -1, -1, -1,  1,  1,  1,  1,  1,  1,  1, -1]))"
      ]
     },
     "execution_count": 77,
     "metadata": {},
     "output_type": "execute_result"
    },
    {
     "data": {
      "text/plain": [
       "({'0_1_1': 0.2222222222222222,\n",
       "  '0_2_1': 0.3333333333333333,\n",
       "  '0_3_1': 0.4444444444444444,\n",
       "  '0_1_-1': 0.5,\n",
       "  '0_2_-1': 0.3333333333333333,\n",
       "  '0_3_-1': 0.16666666666666666,\n",
       "  '1_M_1': 0.4444444444444444,\n",
       "  '1_S_1': 0.1111111111111111,\n",
       "  '1_L_1': 0.4444444444444444,\n",
       "  '1_S_-1': 0.5,\n",
       "  '1_M_-1': 0.3333333333333333,\n",
       "  '1_L_-1': 0.16666666666666666},\n",
       " {'-1': 0.4, '1': 0.6})"
      ]
     },
     "execution_count": 77,
     "metadata": {},
     "output_type": "execute_result"
    },
    {
     "data": {
      "text/plain": [
       "-1"
      ]
     },
     "execution_count": 77,
     "metadata": {},
     "output_type": "execute_result"
    }
   ],
   "source": [
    "X, y = loaddata()\n",
    "X, y\n",
    "xprobability = get_xprobability(X, y)\n",
    "yprobability = get_yprobability(y)\n",
    "xprobability, yprobability\n",
    "X_new = np.array([1, 'M'])\n",
    "predict(X_new)"
   ]
  },
  {
   "cell_type": "code",
   "execution_count": null,
   "metadata": {},
   "outputs": [],
   "source": []
  }
 ],
 "metadata": {
  "hide_input": false,
  "kernelspec": {
   "display_name": "Python 3",
   "language": "python",
   "name": "python3"
  },
  "language_info": {
   "codemirror_mode": {
    "name": "ipython",
    "version": 3
   },
   "file_extension": ".py",
   "mimetype": "text/x-python",
   "name": "python",
   "nbconvert_exporter": "python",
   "pygments_lexer": "ipython3",
   "version": "3.8.3"
  },
  "nbTranslate": {
   "displayLangs": [
    "*"
   ],
   "hotkey": "alt-t",
   "langInMainMenu": true,
   "sourceLang": "en",
   "targetLang": "fr",
   "useGoogleTranslate": true
  },
  "toc": {
   "base_numbering": 1,
   "nav_menu": {},
   "number_sections": true,
   "sideBar": true,
   "skip_h1_title": false,
   "title_cell": "Table of Contents",
   "title_sidebar": "Contents",
   "toc_cell": false,
   "toc_position": {},
   "toc_section_display": true,
   "toc_window_display": true
  },
  "varInspector": {
   "cols": {
    "lenName": 16,
    "lenType": 16,
    "lenVar": 40
   },
   "kernels_config": {
    "python": {
     "delete_cmd_postfix": "",
     "delete_cmd_prefix": "del ",
     "library": "var_list.py",
     "varRefreshCmd": "print(var_dic_list())"
    },
    "r": {
     "delete_cmd_postfix": ") ",
     "delete_cmd_prefix": "rm(",
     "library": "var_list.r",
     "varRefreshCmd": "cat(var_dic_list()) "
    }
   },
   "types_to_exclude": [
    "module",
    "function",
    "builtin_function_or_method",
    "instance",
    "_Feature"
   ],
   "window_display": false
  }
 },
 "nbformat": 4,
 "nbformat_minor": 4
}
